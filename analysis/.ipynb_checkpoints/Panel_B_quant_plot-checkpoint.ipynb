{
 "cells": [
  {
   "cell_type": "code",
   "execution_count": null,
   "id": "1d881fa0-339b-481c-9809-950279534509",
   "metadata": {},
   "outputs": [],
   "source": [
    "# analyzing HPC amyloid, microglia after RLP treatment (blind)"
   ]
  },
  {
   "cell_type": "code",
   "execution_count": 2,
   "id": "8495524d-9f15-4222-bd2a-d8f2a96cfe7c",
   "metadata": {},
   "outputs": [],
   "source": [
    "import pandas as pd\n",
    "import numpy as np\n",
    "import seaborn as sns\n",
    "import matplotlib.pyplot as plt\n",
    "import wesanderson\n",
    "import os\n",
    "import re\n",
    "import warnings\n",
    "\n",
    "# Suppress all warnings\n",
    "warnings.filterwarnings('ignore')"
   ]
  },
  {
   "cell_type": "code",
   "execution_count": 20,
   "id": "a05dcc4c-007e-4e5e-943c-88f573f7a68e",
   "metadata": {},
   "outputs": [],
   "source": [
    "def get_tiny_df(file_path, cols, iid_channel):\n",
    "    \n",
    "    df = pd.read_csv(file_path, header=2, index_col=0)\n",
    "    idx = re.search(r'\\d+_?[MF]_?sliceB(\\d+)', file_path).group(0)\n",
    "    gender = idx[3:4] # be careful, this only works with id nums of len 2\n",
    "\n",
    "    num_cells = df.loc['Number of Disconnected Components']['Count']\n",
    "    vol = df.loc['Volume']['Sum']\n",
    "    sa = df.loc['Area']['Sum']\n",
    "\n",
    "    df = df[df['Channel'] == iid_channel]\n",
    "    mean_iid = df.loc['Intensity Sum']['Mean']\n",
    "    sum_iid = df.loc['Intensity Sum']['Sum']\n",
    "\n",
    "    return pd.DataFrame([[idx, gender, num_cells, vol, sa, sum_iid]], columns=cols)\n",
    "\n",
    "\n",
    "def get_big_df()"
   ]
  },
  {
   "cell_type": "code",
   "execution_count": null,
   "id": "91851e88-b249-4a8c-9b64-2c8973e545d1",
   "metadata": {},
   "outputs": [],
   "source": [
    "def get_hpc_df(a_df, m_df, vol_df):"
   ]
  },
  {
   "cell_type": "code",
   "execution_count": 23,
   "id": "8f1f7565-fb39-4507-a867-c1325c9d2e0b",
   "metadata": {},
   "outputs": [
    {
     "name": "stdout",
     "output_type": "stream",
     "text": [
      "              ID Gender  Amyloid Plaque Count  Amyloid Surface Volume  \\\n",
      "0   18_M_sliceB1      M                   252             1070255.125   \n",
      "1   18_M_sliceB2      M                   200             1092296.625   \n",
      "2   19_M_sliceB1      M                   203              759266.875   \n",
      "3   19_M_sliceB2      M                   183              714234.750   \n",
      "4   20_F_sliceB1      F                   321             2047772.625   \n",
      "5   20_F_sliceB2      F                   283             1792286.375   \n",
      "6   21_F_sliceB1      F                   158              473905.500   \n",
      "7   21_F_sliceB2      F                   175              496111.062   \n",
      "8   22_F_sliceB1      F                   204              783335.188   \n",
      "9   22_F_sliceB2      F                   197              660279.875   \n",
      "10  23_M_sliceB1      M                   197              982463.000   \n",
      "11  23_M_sliceB2      M                   181              923472.875   \n",
      "12  24_M_sliceB1      M                   179              622930.688   \n",
      "13  24_M_sliceB2      M                   185              530039.500   \n",
      "14  25_F_sliceB1      F                   349             2268728.750   \n",
      "15  25_F_sliceB2      F                   308             1920952.750   \n",
      "16  26_F_sliceB1      F                   269             1314086.500   \n",
      "17  26_F_sliceB2      F                   307             1536034.750   \n",
      "18  27_F_sliceB1      F                   322             2276048.000   \n",
      "19  27_F_sliceB2      F                   333             2719738.250   \n",
      "20  28_M_sliceB1      M                   252              763568.875   \n",
      "21  28_M_sliceB2      M                   213              725393.250   \n",
      "22  29_M_sliceB1      M                   245              309527.594   \n",
      "23  29_M_sliceB2      M                   256              350741.156   \n",
      "24  30_F_sliceB1      F                   187              491924.656   \n",
      "25  30_F_sliceB2      F                   229              396539.469   \n",
      "26  31_M_sliceB1      M                   421              577472.062   \n",
      "27  31_M_sliceB2      M                   242              399455.750   \n",
      "28  32_M_sliceB1      M                   153              596217.188   \n",
      "29  32_M_sliceB2      M                   163              815285.938   \n",
      "\n",
      "    Amyloid Surface Area  Total Amyloid IID  \n",
      "0             312287.500       1.780110e+09  \n",
      "1             282036.500       2.360411e+09  \n",
      "2             244090.516       1.006048e+09  \n",
      "3             230927.484       9.649140e+08  \n",
      "4             512399.781       3.882771e+09  \n",
      "5             493274.250       3.350049e+09  \n",
      "6             168091.891       4.330456e+08  \n",
      "7             173695.016       3.738897e+08  \n",
      "8             230796.531       1.281378e+09  \n",
      "9             223889.859       8.180616e+08  \n",
      "10            268886.656       1.372051e+09  \n",
      "11            251751.281       1.377800e+09  \n",
      "12            198988.562       8.905671e+08  \n",
      "13            187326.453       6.491243e+08  \n",
      "14            573098.812       4.352751e+09  \n",
      "15            487441.156       3.696634e+09  \n",
      "16            351699.312       2.811649e+09  \n",
      "17            425966.875       3.012486e+09  \n",
      "18            615144.188       5.125070e+09  \n",
      "19            644880.688       6.043660e+09  \n",
      "20            264182.406       1.178886e+09  \n",
      "21            246110.953       1.208103e+09  \n",
      "22            178355.938       1.259024e+08  \n",
      "23            188806.344       1.476775e+08  \n",
      "24            174955.797       6.601489e+08  \n",
      "25            172307.031       4.967222e+08  \n",
      "26            324397.750       2.214324e+08  \n",
      "27            158415.938       4.402439e+08  \n",
      "28            187080.875       1.155561e+09  \n",
      "29            209582.875       1.865363e+09  \n",
      "              ID Gender  Microglia Count  Microglia Surface Volume  \\\n",
      "0   18_M_sliceB1      M              786                723302.562   \n",
      "1   18_M_sliceB2      M             1543               3712581.500   \n",
      "2   19_M_sliceB1      M             1540               3984291.750   \n",
      "3   19_M_sliceB2      M             1660               4080507.250   \n",
      "4   20_F_sliceB1      F             1516               3667229.750   \n",
      "5   20_F_sliceB2      F             1537               3774917.250   \n",
      "6   21_F_sliceB1      F             2206               2209417.750   \n",
      "7   21_F_sliceB2      F             2747               3084471.500   \n",
      "8   22_F_sliceB1      F             1531               3630556.750   \n",
      "9   22_F_sliceB2      F             1508               3536187.250   \n",
      "10  23_M_sliceB1      M             1616               3630979.250   \n",
      "11  23_M_sliceB2      M             1609               3586485.500   \n",
      "12  24_M_sliceB1      M             1683               3758693.000   \n",
      "13  24_M_sliceB2      M             1806               3708616.250   \n",
      "14  25_F_sliceB1      F             1521               4030677.500   \n",
      "15  25_F_sliceB2      F             1426               3933191.750   \n",
      "16  26_F_sliceB1      F             1480               3493991.500   \n",
      "17  26_F_sliceB2      F             1695               4541329.500   \n",
      "18  27_F_sliceB1      F             1403               3219986.000   \n",
      "19  27_F_sliceB2      F             1376               3404090.250   \n",
      "20  28_M_sliceB1      M             1444               3351649.750   \n",
      "21  28_M_sliceB2      M             1599               4200212.000   \n",
      "22  29_M_sliceB1      M             1631               4043065.000   \n",
      "23  29_M_sliceB2      M             1681               4004627.750   \n",
      "24  30_F_sliceB1      F             1476               3674586.250   \n",
      "25  30_F_sliceB2      F             1514               3754514.250   \n",
      "26  31_M_sliceB1      M             1591               2697955.250   \n",
      "27  31_M_sliceB2      M             1734               3463960.750   \n",
      "28  32_M_sliceB1      M             1861               3575736.250   \n",
      "29  32_M_sliceB2      M             1842               3612642.250   \n",
      "\n",
      "    Microglia Surface Area  Total Microglia IID  \n",
      "0               378974.344         1.173205e+09  \n",
      "1              1537870.500         5.317661e+09  \n",
      "2              1635789.375         3.389033e+09  \n",
      "3              1705247.000         3.523638e+09  \n",
      "4              1505405.250         3.425074e+09  \n",
      "5              1568181.750         3.756741e+09  \n",
      "6              1107071.750         1.239544e+09  \n",
      "7              1551890.000         1.728811e+09  \n",
      "8              1529825.375         3.812652e+09  \n",
      "9              1494138.750         3.068301e+09  \n",
      "10             1533732.875         2.999602e+09  \n",
      "11             1527669.875         2.595888e+09  \n",
      "12             1569776.500         3.693584e+09  \n",
      "13             1591553.375         3.252898e+09  \n",
      "14             1633782.375         6.708674e+09  \n",
      "15             1550542.625         5.970978e+09  \n",
      "16             1440793.000         5.026984e+09  \n",
      "17             1882005.000         5.880976e+09  \n",
      "18             1355579.125         6.127989e+09  \n",
      "19             1394963.250         6.160292e+09  \n",
      "20             1390315.250         7.270657e+09  \n",
      "21             1707246.625         9.846404e+09  \n",
      "22             1683074.500         6.754525e+09  \n",
      "23             1674842.375         5.767343e+09  \n",
      "24             1522104.500         5.148929e+09  \n",
      "25             1573121.625         4.740254e+09  \n",
      "26             1245334.875         4.367773e+09  \n",
      "27             1514013.000         4.683239e+09  \n",
      "28             1543793.750         5.657525e+09  \n",
      "29             1551260.625         6.924477e+09  \n"
     ]
    }
   ],
   "source": [
    "hpc_amyloid_dir = '../data/Panel B Data/hpc amyloid NEW'\n",
    "a_cols = ['ID', 'Gender', 'Amyloid Plaque Count', 'Amyloid Surface Volume', 'Amyloid Surface Area', 'Total Amyloid IID'] \n",
    "a_files = [os.path.join(hpc_amyloid_dir, f) for f in os.listdir(hpc_amyloid_dir)]\n",
    "a_dfs = [get_tiny_df(file_path, a_cols, iid_channel=5) for file_path in a_files]\n",
    "a_df = pd.concat(a_dfs, ignore_index=True)\n",
    "print(a_df)\n",
    "\n",
    "hpc_microglia_dir = '../data/Panel B Data/hpc microglia'\n",
    "m_cols = ['ID', 'Gender', 'Microglia Count', 'Microglia Surface Volume', 'Microglia Surface Area', 'Total Microglia IID']\n",
    "m_files = [os.path.join(hpc_microglia_dir, f) for f in os.listdir(hpc_microglia_dir)]\n",
    "m_dfs = [get_tiny_df(file_path, m_cols, iid_channel=6) for file_path in m_files]\n",
    "m_df = pd.concat(m_dfs, ignore_index=True)\n",
    "print(m_df)\n",
    "\n",
    "hpc_vol_dir = '../data/Panel B Data/hpc volume'\\\n",
    "vol_cols = ['ID', 'Gender', 'HPC Volume']\n",
    "vol_files = [os.path.join(hpc_vol_dir, f) for f in os.listdir(hpc_vol_dir)]\n",
    "vol_dfs = []\n",
    "\n",
    "#for filename in os.listdir(hpc_amyloid_dir):\n",
    "#    file_path = os.path.join(hpc_amyloid_dir, filename)\n",
    "#    if os.path.isfile(file_path):\n",
    "#    \n",
    "#        tiny_df = get_image_df(file_path)\n",
    "#        hpc_df = pd.concat([hpc_df, tiny_df], ignore_index=True)\n",
    "            \n",
    "\n"
   ]
  },
  {
   "cell_type": "code",
   "execution_count": 7,
   "id": "06a4ebe4-eb30-4089-a7bb-3dec7883ee6c",
   "metadata": {},
   "outputs": [
    {
     "data": {
      "text/plain": [
       "<Axes: xlabel='Plaque Count', ylabel='Count'>"
      ]
     },
     "execution_count": 7,
     "metadata": {},
     "output_type": "execute_result"
    },
    {
     "data": {
      "image/png": "[encoded data removed]",
      "text/plain": [
       "<Figure size 640x480 with 1 Axes>"
      ]
     },
     "metadata": {},
     "output_type": "display_data"
    }
   ],
   "source": [
    "sns.histplot(data=hpc_df, x='Plaque Count', bins=15, kde=True)"
   ]
  },
  {
   "cell_type": "code",
   "execution_count": 8,
   "id": "4eff09df-268f-4bf4-891f-f62077e19e0a",
   "metadata": {},
   "outputs": [
    {
     "data": {
      "text/plain": [
       "<Axes: xlabel='Total Amyloid IID', ylabel='Count'>"
      ]
     },
     "execution_count": 8,
     "metadata": {},
     "output_type": "execute_result"
    },
    {
     "data": {
      "image/png": "[encoded data removed]",
      "text/plain": [
       "<Figure size 640x480 with 1 Axes>"
      ]
     },
     "metadata": {},
     "output_type": "display_data"
    }
   ],
   "source": [
    "sns.histplot(data=hpc_df, x='Total Amyloid IID', bins=15, kde=True)"
   ]
  }
 ],
 "metadata": {
  "kernelspec": {
   "display_name": "Python 3 (ipykernel)",
   "language": "python",
   "name": "python3"
  },
  "language_info": {
   "codemirror_mode": {
    "name": "ipython",
    "version": 3
   },
   "file_extension": ".py",
   "mimetype": "text/x-python",
   "name": "python",
   "nbconvert_exporter": "python",
   "pygments_lexer": "ipython3",
   "version": "3.12.4"
  }
 },
 "nbformat": 4,
 "nbformat_minor": 5
}
